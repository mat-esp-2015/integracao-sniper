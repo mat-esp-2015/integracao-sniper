{
 "cells": [
  {
   "cell_type": "markdown",
   "metadata": {},
   "source": [
    "**Course website**: http://www.leouieda.com/matematica-especial\n",
    "\n",
    "**Note**: This notebook is part of the course \"Matemática Especial I\" of the [Universidade do Estado do Rio de Janeiro](http://www.uerj.br/). All content can be freely used and adapted under the terms of the \n",
    "[Creative Commons Attribution 4.0 International License](http://creativecommons.org/licenses/by/4.0/).\n",
    "\n",
    "![Creative Commons License](https://i.creativecommons.org/l/by/4.0/88x31.png)"
   ]
  },
  {
   "cell_type": "markdown",
   "metadata": {},
   "source": [
    "# Integração Numérica"
   ]
  },
  {
   "cell_type": "markdown",
   "metadata": {},
   "source": [
    "## Imports\n",
    "\n",
    "Coloque **todos** os `import` na célula abaixo. Não se esqueça do `%matplotlib inline` para que os gráficos apareçam no notebook."
   ]
  },
  {
   "cell_type": "code",
   "execution_count": 1,
   "metadata": {
    "collapsed": true
   },
   "outputs": [],
   "source": [
    "# Dessa vez vamos precisar da biblioteca matemática \"math\"\n",
    "# Ela define funções como sin, cos, tan, exp e constantes como pi\n",
    "import math"
   ]
  },
  {
   "cell_type": "markdown",
   "metadata": {},
   "source": [
    "## Regra dos retângulos\n",
    "\n",
    "O jeito mais simples de integração numérica é a regra dos retângulos. Nela, aproximamos a integral pela soma das áreas de retângulos. Cada retângulo se encontra abaixo de um dos pontos dos dados. A largura do retângulo é o espaçamento entre os dados $\\Delta$. A altura do retângulo é o valor do dado naquela posição $d_i$.\n",
    "\n",
    "Se tivermos nossos dados em um vetor de dados $\\bar{d}$ (**nota**: vetores serão representados com uma barra em cima):\n",
    "\n",
    "$$\n",
    "\\bar{d} = \\left[ d_1 ~ d_2 ~ d_3 ~ \\ldots ~ d_N \\right],\n",
    "$$\n",
    "\n",
    "a integral poderá ser aproximada pela soma das áreas dos retângulos:\n",
    "\n",
    "$$\n",
    "A = \\sum\\limits_{i=1}^{N} \\Delta d_i\n",
    "$$"
   ]
  },
  {
   "cell_type": "markdown",
   "metadata": {},
   "source": [
    "### Algoritmo\n",
    "\n",
    "Utilize a célula vazia abaixo (tipo Markdown) para colocar uma descrição do algoritmo em português (não em código). Não se esqueça de relacionar os passos do algoritmo com as fórmulas matemáticas do método.\n",
    "\n",
    "**Dicas**:\n",
    "\n",
    "* Help sobre Markdown: https://help.github.com/articles/markdown-basics/\n",
    "* Como utilizar fórmulas matemáticas: https://www.sharelatex.com/learn/Mathematical_expressions\n"
   ]
  },
  {
   "cell_type": "markdown",
   "metadata": {},
   "source": []
  },
  {
   "cell_type": "markdown",
   "metadata": {},
   "source": [
    "### Dados para teste\n",
    "\n",
    "Vamos utilizar dados gerados a partir de uma função $d(t) = \\cos(t)$ para testar o método de integração. A vantagem do cosseno é que sabemos quanto deve ser a integral:\n",
    "\n",
    "$$\n",
    "\\int\\limits_a^b \\cos(t) dt = \\sin(b) - \\sin(a)\n",
    "$$\n",
    "\n",
    "O código abaixo gera duas listas: uma com os tempos variando entre os limites de integração; outra com os valores correspondentes do cosseno."
   ]
  },
  {
   "cell_type": "code",
   "execution_count": 2,
   "metadata": {
    "collapsed": false
   },
   "outputs": [
    {
     "name": "stdout",
     "output_type": "stream",
     "text": [
      "Espacamento entre os dados: 0.0320570678937734\n"
     ]
    }
   ],
   "source": [
    "# inicio e fim são os intervalos de integração\n",
    "inicio = 0\n",
    "fim = math.pi/2 # Funções trigonométricas utilizam ângulos em radianos!\n",
    "N = 50\n",
    "# Precisamos saber o intervalo entre cada ponto dos dados\n",
    "# A divisão é por N - 1 pois existem N - 1 intervalos entre N pontos\n",
    "intervalo = (fim - inicio)/(N - 1)\n",
    "print(\"Espacamento entre os dados:\", intervalo)\n",
    "tempos = []\n",
    "dados = []\n",
    "for i in range(N):\n",
    "    t = inicio + i*intervalo\n",
    "    tempos.append(t)\n",
    "    dados.append(math.cos(t))"
   ]
  },
  {
   "cell_type": "markdown",
   "metadata": {},
   "source": [
    "Utilize a célula abaixo para gerar um gráfico de `dados` por `tempos`."
   ]
  },
  {
   "cell_type": "code",
   "execution_count": 3,
   "metadata": {
    "collapsed": false
   },
   "outputs": [
    {
     "data": {
      "text/plain": [
       "[<matplotlib.lines.Line2D at 0x7443390>]"
      ]
     },
     "execution_count": 3,
     "metadata": {},
     "output_type": "execute_result"
    },
    {
     "data": {
      "image/png": "[encoded data removed]",
      "text/plain": [
       "<matplotlib.figure.Figure at 0x44a85c0>"
      ]
     },
     "metadata": {},
     "output_type": "display_data"
    }
   ],
   "source": [
    "%matplotlib inline\n",
    "import matplotlib.pylab as plt\n",
    "plt.figure()\n",
    "plt.plot(tempos,dados, '-k')\n"
   ]
  },
  {
   "cell_type": "markdown",
   "metadata": {},
   "source": [
    "### Implementação\n",
    "\n",
    "Implemente a regra dos retângulos para integrar os dados gerados acima. Coloque seu cógido na célula abaixo."
   ]
  },
  {
   "cell_type": "code",
   "execution_count": 4,
   "metadata": {
    "collapsed": false
   },
   "outputs": [
    {
     "name": "stdout",
     "output_type": "stream",
     "text": [
      "Integracao Regra Retangulos:  1.01594289451325\n"
     ]
    }
   ],
   "source": [
    "soma_area = 0\n",
    "for valor in dados:\n",
    "    soma_area = (valor * intervalo)  + (soma_area)\n",
    "print ('Integracao Regra Retangulos: ',soma_area)\n"
   ]
  },
  {
   "cell_type": "markdown",
   "metadata": {},
   "source": [
    "Nas células abaixo calcule e imprima:\n",
    "\n",
    "1. A solução analítica (verdadeira) para a integral\n",
    "2. O erro cometido $E = \\left|res_{true} - res_{calc}\\right|$\n",
    "\n",
    "Dica: a função `abs` calcula o valor absoluto de um número."
   ]
  },
  {
   "cell_type": "code",
   "execution_count": 5,
   "metadata": {
    "collapsed": false
   },
   "outputs": [
    {
     "name": "stdout",
     "output_type": "stream",
     "text": [
      "Erro cometido:  0.01594289451325004\n"
     ]
    }
   ],
   "source": [
    "rtrue = 1\n",
    "rcalc = soma_area\n",
    "\n",
    "e = abs(rtrue - rcalc)\n",
    "print('Erro cometido: ',e)"
   ]
  },
  {
   "cell_type": "markdown",
   "metadata": {},
   "source": [
    "**Responda na célula abaixo:** Por que o erro não é zero e quais são os fatores que influenciam o erro?"
   ]
  },
  {
   "cell_type": "markdown",
   "metadata": {},
   "source": [
    "\n",
    "Não é zero por que a integração feita através da regra dos retangulos não demonstra o somatória da area abaixo da curva com exatidão, gerando assim um erro de aproximação. "
   ]
  },
  {
   "cell_type": "markdown",
   "metadata": {},
   "source": [
    "### Resultado esperado\n",
    "\n",
    "No caso acima estamos integrando o cosseno de 0 a $\\pi/2$, então o valor esperado da integral é 1. Seu resultado não será exatamente 1 mas deve estar entre 0.9 e 1.1."
   ]
  },
  {
   "cell_type": "markdown",
   "metadata": {},
   "source": [
    "## Regra dos trapézios\n",
    "\n",
    "A regra dos trapézios é parecida com a regra dos retângulos. Mas utilizaremos a área de um trapézio ao invés da área de um retângulo. O trapézio será definido com base em dois pontos adjacentes nos dados ($d_i$ e $d_{i+1}$, por exemplo).\n",
    "\n",
    "$$\n",
    "A = \\sum\\limits_{i=1}^{N - 1} \\Delta \\frac{d_i + d_{i+1}}{2}\n",
    "$$"
   ]
  },
  {
   "cell_type": "markdown",
   "metadata": {},
   "source": [
    "### Algoritmo\n",
    "\n",
    "Descreva abaixo o algoritmo utilizado (em português) para fazer a integração numérica utilizando a regra dos trapézios."
   ]
  },
  {
   "cell_type": "markdown",
   "metadata": {},
   "source": []
  },
  {
   "cell_type": "markdown",
   "metadata": {},
   "source": [
    "### Implementação\n",
    "\n",
    "Vamos utilizar os mesmo dados utilizados na regra dos retângulos (na dúvida, rode novamente a célula que gera os dados). Abaixo, escreva e rode o código que faz a integração numérica com a regra dos trapézios. "
   ]
  },
  {
   "cell_type": "code",
   "execution_count": 7,
   "metadata": {
    "collapsed": false
   },
   "outputs": [
    {
     "name": "stdout",
     "output_type": "stream",
     "text": [
      "Integracao:  0.9999143605663631\n"
     ]
    }
   ],
   "source": [
    "somatorio = 0\n",
    "n = len(dados)\n",
    "inter = 0.0320570678937734\n",
    "for id in range(0,n-1, 1):\n",
    "    ide = id + 1\n",
    "    somatorio = (inter * (dados[id] + dados[ide] )) + somatorio\n",
    "    resultado = somatorio / 2\n",
    "print ('Integracao: ',resultado)"
   ]
  },
  {
   "cell_type": "markdown",
   "metadata": {},
   "source": [
    "Calcule e imprima também a solução analíca e o erro cometido."
   ]
  },
  {
   "cell_type": "code",
   "execution_count": 8,
   "metadata": {
    "collapsed": false
   },
   "outputs": [
    {
     "name": "stdout",
     "output_type": "stream",
     "text": [
      "8.563943363693038e-05\n"
     ]
    }
   ],
   "source": [
    "erro2 = 1 - resultado\n",
    "print(erro2)"
   ]
  },
  {
   "cell_type": "markdown",
   "metadata": {},
   "source": [
    "**Responda na célula abaixo:** O erro é maior ou menos que para a regra dos retângulos? Por que? Você esperava isso?"
   ]
  },
  {
   "cell_type": "markdown",
   "metadata": {},
   "source": [
    "O erro é menor, pois a linha abaixo da curva formada pelos pontos do método dos trapézios comparadas com a forma disposta pelo metodo dps retangulos, se aproxima mais da curva, logo a area calculada é mais precisa. Sim, já esperava pois o gráfico já da uma ideia de que o método dos trapézio se aproxima mais da curva, isso é possivel notar visualmente. "
   ]
  },
  {
   "cell_type": "markdown",
   "metadata": {},
   "source": [
    "### Resultado esperado\n",
    "\n",
    "Novamente, o valos esperado é 1 mas seu resultado não será exatamente 1 (mas deve estar entre 0.9 e 1.1)."
   ]
  },
  {
   "cell_type": "markdown",
   "metadata": {},
   "source": [
    "## Comparação dos dois métodos\n",
    "\n",
    "Vamos comparar o erro de ambos métodos. Uma comparação muito utilizada em métodos numéricos em geral é como o erro varia com o número de dados (ou pontos) utilizados.\n",
    "\n",
    "Nas células abaixo, calcule o erro da integração numérica para diferentes valores de `N`. Os valores de N deverão variar de 10 a 1000 de 10 em 10. Mantenha os intervalos de integração entre $0$ e $\\pi/2$. Faça esse cálculo para os dois métodos: retângulos e trapézios.\n",
    "\n",
    "Ao final, faça um gráfico do erro pelos valores de `N`. O gráfico deverá ter duas curvas, uma para cada método. O eixo y (erros) deverá estar em escala logarítmica.\n",
    "\n",
    "**Dicas**: \n",
    "\n",
    "* Gere uma lista dos valores de `N`.\n",
    "* Para colocar o eixo y em escala log: `plt.yscale('log')`"
   ]
  },
  {
   "cell_type": "code",
   "execution_count": 46,
   "metadata": {
    "collapsed": false
   },
   "outputs": [],
   "source": [
    "import matplotlib.pyplot as plt\n",
    "import math\n",
    "%matplotlib inline\n",
    "# inicio e fim são os intervalos de integração\n",
    "fim = math.pi/2 # Funções trigonométricas utilizam ângulos em radianos!\n",
    "# Precisamos saber o intervalo entre cada ponto dos dados\n",
    "# A divisão é por N - 1 pois existem N - 1 intervalos entre i pontos\n",
    "somatorio = 0\n",
    "\n",
    "erro_trapezio = []\n",
    "erro_retangulo = []\n",
    "inicio = 0\n",
    "inter = []\n",
    "for n in range(10,1010,10):\n",
    "    intervalo = (fim - inicio)/(n -1)\n",
    "    tempos1= []\n",
    "    dados1 = []\n",
    "    inter.append(n)\n",
    "    for i in range(n):\n",
    "        t = inicio + i*intervalo\n",
    "        tempos1.append(t)\n",
    "        dados1.append(math.cos(t))\n",
    "    soma_area = 0\n",
    "    for valor in dados1:\n",
    "        soma_area = (valor * intervalo)  + (soma_area)\n",
    "    rtrue = 1\n",
    "    rcalc = soma_area\n",
    "    e1 = abs(rtrue - rcalc)\n",
    "    erro_retangulo.append(e1) \n",
    "    somatorio = 0\n",
    "    n = len(dados1)\n",
    "    for id in range(0,n-1,1):\n",
    "        ide = id + 1\n",
    "        somatorio = (intervalo * (dados1[id] + dados1[ide] )) + somatorio\n",
    "    resultado = somatorio / 2\n",
    "    e2 = abs(1 - resultado)\n",
    "    erro_trapezio.append(e2)"
   ]
  },
  {
   "cell_type": "code",
   "execution_count": 47,
   "metadata": {
    "collapsed": false
   },
   "outputs": [
    {
     "data": {
      "image/png": "[encoded data removed]",
      "text/plain": [
       "<matplotlib.figure.Figure at 0x7c9e5f8>"
      ]
     },
     "metadata": {},
     "output_type": "display_data"
    }
   ],
   "source": [
    "plt.figure()\n",
    "plt.title(\"Erro de integração numérica\")\n",
    "plt.plot(inter, erro_retangulo, '-b', label= 'Retângulos')\n",
    "plt.plot(inter, erro_trapezio, '-r', label= 'Trapézios')\n",
    "plt.xlabel('Número de dados')\n",
    "plt.ylabel('Erro')\n",
    "plt.yscale('log')\n",
    "legend = plt.legend(loc='upper right', shadow=True, fontsize='large')"
   ]
  },
  {
   "cell_type": "markdown",
   "metadata": {},
   "source": [
    "**Responda na célula abaixo**: Como o erro varia com `N` para os dois métodos? Aumentar o número de dados de 50 para 200 nos dá a mesma diminuição no erro que aumentar de 650 para 800? Sempre vale a pena utilizar mais dados (lembre-se que a escala é logarítmica)? "
   ]
  },
  {
   "cell_type": "markdown",
   "metadata": {},
   "source": [
    "Quanto maior o número de dados, menor é o erro para os dois métodos. Não, pois como é uma escala logarítmica a diferença de erros é menor quanto maior o número de dados, por isso vale a pena utilizar mais dados."
   ]
  },
  {
   "cell_type": "markdown",
   "metadata": {},
   "source": [
    "### Resultado esperado\n",
    "\n",
    "O gráfico ao final deverá ser parecido com:\n",
    "\n",
    "![images/erro-por-ndados.png](images/erro-por-ndados.png)"
   ]
  },
  {
   "cell_type": "markdown",
   "metadata": {},
   "source": [
    "## Tarefa bônus: Probabilidades\n",
    "\n",
    "Vamos assumir que uma variável aleatória $x$ segue uma [distribuição normal](https://en.wikipedia.org/wiki/Normal_distribution) com média zero e desvio padrão $\\sigma$. Isso quer dizer que a [densidade de probabilidade](https://en.wikipedia.org/wiki/Probability_density_function) para $x$ é\n",
    "\n",
    "$$\n",
    "f(x) = \\frac{1}{\\sigma\\sqrt{2\\pi}} \\exp \\left( -\\frac{x^2}{2 \\sigma^2} \\right)\n",
    "$$\n",
    "\n",
    "A probabilidade de $x$ cair no intervalo $[a, b]$ é dada por ([refência](https://en.wikipedia.org/wiki/Probability_distribution#Continuous_probability_distribution)):\n",
    "\n",
    "$$\n",
    "P(a \\leq x \\leq b) = \\int\\limits_a^b f(x) dx\n",
    "$$\n",
    "\n",
    "Calcule na célula abaixo qual é a probabilidade de $x$ estar entre $[-\\sigma, +\\sigma]$ para $\\sigma = 5$."
   ]
  },
  {
   "cell_type": "code",
   "execution_count": 122,
   "metadata": {
    "collapsed": false
   },
   "outputs": [
    {
     "name": "stdout",
     "output_type": "stream",
     "text": [
      "Espacamento entre os dados: 0.20408163265306123\n",
      "Integracao:  4.28795510154\n"
     ]
    }
   ],
   "source": [
    "%matplotlib inline\n",
    "import numpy as np\n",
    "import matplotlib.mlab as mlab\n",
    "import matplotlib.pyplot as plt\n",
    "import math\n",
    "inicio = -5\n",
    "fim = 5\n",
    "sigma = 5 # Funções trigonométricas utilizam ângulos em radianos!\n",
    "N = 50\n",
    "# Precisamos saber o intervalo entre cada ponto dos dados\n",
    "# A divisão é por N - 1 pois existem N - 1 intervalos entre N pontos\n",
    "intervalo = (fim - inicio)/(N - 1)\n",
    "print(\"Espacamento entre os dados:\", intervalo)\n",
    "tempos2 = []\n",
    "dados2 = []\n",
    "for i in range(N):\n",
    "    pi = 3.14\n",
    "    t = inicio + i*intervalo\n",
    "    tempos2.append(t)\n",
    "    dados2.append((1/sigma*np.sqrt(2*pi))*np.exp(-((t**2)/(2*sigma**2))))\n",
    "    n = len(dados2)\n",
    "somatorio  = 0\n",
    "for id in range(0,n-1, 1):\n",
    "    ide = id + 1\n",
    "    somatorio = (intervalo * (dados2[id] + dados2[ide] )) + somatorio\n",
    "resultado = somatorio / 2\n",
    "print ('Integracao: ',resultado)\n",
    "\n",
    "\n"
   ]
  },
  {
   "cell_type": "code",
   "execution_count": 127,
   "metadata": {
    "collapsed": false
   },
   "outputs": [
    {
     "data": {
      "image/png": "[encoded data removed]",
      "text/plain": [
       "<matplotlib.figure.Figure at 0x8d68b70>"
      ]
     },
     "metadata": {},
     "output_type": "display_data"
    }
   ],
   "source": [
    "import matplotlib.pyplot as plt\n",
    "plt.figure()\n",
    "plt.title(\"Desidade de Probabilidade\")\n",
    "plt.plot(tempos2, dados2, '-b', label= 'Trapézios (Curva Gaussiana)')\n",
    "plt.xlabel('Intervalo fechado')\n",
    "plt.ylabel('Probabilidade')\n",
    "legend = plt.legend(loc='upper right', shadow=True, fontsize='large')"
   ]
  },
  {
   "cell_type": "code",
   "execution_count": null,
   "metadata": {
    "collapsed": true
   },
   "outputs": [],
   "source": []
  },
  {
   "cell_type": "code",
   "execution_count": null,
   "metadata": {
    "collapsed": true
   },
   "outputs": [],
   "source": []
  }
 ],
 "metadata": {
  "kernelspec": {
   "display_name": "Python 3",
   "language": "python",
   "name": "python3"
  },
  "language_info": {
   "codemirror_mode": {
    "name": "ipython",
    "version": 3
   },
   "file_extension": ".py",
   "mimetype": "text/x-python",
   "name": "python",
   "nbconvert_exporter": "python",
   "pygments_lexer": "ipython3",
   "version": "3.4.3"
  }
 },
 "nbformat": 4,
 "nbformat_minor": 0
}
